{
  "nbformat": 4,
  "nbformat_minor": 0,
  "metadata": {
    "colab": {
      "provenance": []
    },
    "kernelspec": {
      "name": "python3",
      "display_name": "Python 3"
    },
    "language_info": {
      "name": "python"
    }
  },
  "cells": [
    {
      "cell_type": "code",
      "execution_count": 1,
      "metadata": {
        "id": "qlL1E0KEtnqd"
      },
      "outputs": [],
      "source": [
        "# Step 1: Import necessary libraries\n",
        "import pandas as pd\n",
        "import numpy as np\n",
        "from sklearn.model_selection import train_test_split\n",
        "from sklearn.preprocessing import StandardScaler\n",
        "from sklearn.linear_model import LinearRegression\n",
        "from sklearn.metrics import mean_absolute_error, mean_squared_error, r2_score\n"
      ]
    },
    {
      "cell_type": "code",
      "source": [
        "# Step 2: Create a sample dataset\n",
        "# In a real-world scenario, you would load this from a CSV file.\n",
        "# For this example, we'll create it directly using a pandas DataFrame.\n",
        "data = {\n",
        "    'study_hours': [2.5, 5.1, 3.2, 8.5, 6.5, 9.2, 5.5, 8.3, 2.7, 7.7, 5.9, 6.1, 4.5, 3.3, 1.1],\n",
        "    'previous_score': [60, 82, 70, 95, 88, 98, 85, 94, 68, 91, 84, 86, 78, 72, 50],\n",
        "    'final_mark': [65, 85, 72, 96, 90, 99, 88, 95, 69, 94, 87, 88, 81, 75, 52]\n",
        "}\n",
        "df = pd.DataFrame(data)\n",
        "\n",
        "print(\"--- Original Data ---\")\n",
        "print(df.head())\n",
        "print(\"\\n\")"
      ],
      "metadata": {
        "colab": {
          "base_uri": "https://localhost:8080/"
        },
        "id": "a05NSDRXuDYg",
        "outputId": "cdfcf07c-1cb2-4870-a5fb-22c22fc8efee"
      },
      "execution_count": 2,
      "outputs": [
        {
          "output_type": "stream",
          "name": "stdout",
          "text": [
            "--- Original Data ---\n",
            "   study_hours  previous_score  final_mark\n",
            "0          2.5              60          65\n",
            "1          5.1              82          85\n",
            "2          3.2              70          72\n",
            "3          8.5              95          96\n",
            "4          6.5              88          90\n",
            "\n",
            "\n"
          ]
        }
      ]
    },
    {
      "cell_type": "code",
      "source": [
        "# Step 3: Define features (X) and target (y)\n",
        "X = df[['study_hours', 'previous_score']]\n",
        "y = df['final_mark']"
      ],
      "metadata": {
        "id": "c9WOfswAuknn"
      },
      "execution_count": 3,
      "outputs": []
    },
    {
      "cell_type": "code",
      "source": [
        "# Step 4: Split the data into training and testing sets\n",
        "# We'll use 80% of the data for training and 20% for testing.\n",
        "X_train, X_test, y_train, y_test = train_test_split(X, y, test_size=0.2, random_state=42)\n"
      ],
      "metadata": {
        "id": "oX9vgnVNurZX"
      },
      "execution_count": 4,
      "outputs": []
    },
    {
      "cell_type": "code",
      "source": [
        "# Step 5: Scale the features\n",
        "# It's important to scale data after splitting to prevent data leakage from the test set.\n",
        "scaler = StandardScaler()"
      ],
      "metadata": {
        "id": "CIZY_ssqu1i-"
      },
      "execution_count": 5,
      "outputs": []
    },
    {
      "cell_type": "code",
      "source": [
        "# Fit the scaler on the training data and transform both sets\n",
        "X_train_scaled = scaler.fit_transform(X_train)\n",
        "X_test_scaled = scaler.transform(X_test)"
      ],
      "metadata": {
        "id": "miMj5H77u7vn"
      },
      "execution_count": 6,
      "outputs": []
    },
    {
      "cell_type": "code",
      "source": [
        "# Step 6: Build and train the Linear Regression model\n",
        "# This follows the 4-step Scikit-learn pattern.\n",
        "model = LinearRegression()\n",
        "model.fit(X_train_scaled, y_train)\n",
        "print(\"--- Model Training Complete ---\")\n",
        "print(\"The model has learned the relationship between the features and the final mark.\\n\")\n"
      ],
      "metadata": {
        "colab": {
          "base_uri": "https://localhost:8080/"
        },
        "id": "klanauxsvQXk",
        "outputId": "7069c86c-6e8d-487c-944c-dc12eed43219"
      },
      "execution_count": 9,
      "outputs": [
        {
          "output_type": "stream",
          "name": "stdout",
          "text": [
            "--- Model Training Complete ---\n",
            "The model has learned the relationship between the features and the final mark.\n",
            "\n"
          ]
        }
      ]
    },
    {
      "cell_type": "code",
      "source": [
        "# Step 7: Make predictions on the test set\n",
        "# This is the moment of truth: let's see how the model performs on data it has never seen before.\n",
        "y_pred = model.predict(X_test_scaled)\n"
      ],
      "metadata": {
        "id": "Y4se0UDyvaqH"
      },
      "execution_count": 10,
      "outputs": []
    },
    {
      "cell_type": "code",
      "source": [
        "# Step 8: Evaluate the model's performance\n",
        "print(\"--- Model Evaluation ---\")\n",
        "mae = mean_absolute_error(y_test, y_pred)\n",
        "rmse = mean_squared_error(y_test, y_pred) # Removed squared=False\n",
        "r2 = r2_score(y_test, y_pred)\n",
        "\n",
        "print(f\"Mean Absolute Error (MAE): {mae:.2f}\")\n",
        "print(f\"Mean Squared Error (MSE): {rmse:.2f}\") # Changed RMSE to MSE as squared=False was removed\n",
        "print(f\"R-squared (R²) Score: {r2:.2f}\")\n",
        "print(\"\\n\")"
      ],
      "metadata": {
        "colab": {
          "base_uri": "https://localhost:8080/"
        },
        "id": "mXcPedkvwGwH",
        "outputId": "8aeaa522-510e-452e-e956-a13eb286db03"
      },
      "execution_count": 14,
      "outputs": [
        {
          "output_type": "stream",
          "name": "stdout",
          "text": [
            "--- Model Evaluation ---\n",
            "Mean Absolute Error (MAE): 1.68\n",
            "Mean Squared Error (MSE): 4.44\n",
            "R-squared (R²) Score: 0.97\n",
            "\n",
            "\n"
          ]
        }
      ]
    },
    {
      "cell_type": "code",
      "source": [
        "# Step 9: Use the trained model to predict on new, unseen data\n",
        "print(\"--- Predicting on a New Student ---\")\n",
        "# Let's say a new student studied for 7 hours and had a previous score of 92.\n",
        "new_student_data = np.array([[7.0, 92.0]])\n",
        "\n",
        "# We MUST apply the same scaling to this new data\n",
        "new_student_data_scaled = scaler.transform(new_student_data)\n",
        "\n",
        "# Predict the final mark\n",
        "predicted_mark = model.predict(new_student_data_scaled)\n",
        "\n",
        "print(f\"Data for new student: Study Hours=7.0, Previous Score=92\")\n",
        "print(f\"Predicted Final Mark: {predicted_mark[0]:.2f}\")"
      ],
      "metadata": {
        "colab": {
          "base_uri": "https://localhost:8080/"
        },
        "id": "cIF3HkSOxqZv",
        "outputId": "0f524c90-e6d1-4908-ed76-32d8fa9ffb48"
      },
      "execution_count": 15,
      "outputs": [
        {
          "output_type": "stream",
          "name": "stdout",
          "text": [
            "--- Predicting on a New Student ---\n",
            "Data for new student: Study Hours=7.0, Previous Score=92\n",
            "Predicted Final Mark: 94.25\n"
          ]
        },
        {
          "output_type": "stream",
          "name": "stderr",
          "text": [
            "/usr/local/lib/python3.11/dist-packages/sklearn/utils/validation.py:2739: UserWarning: X does not have valid feature names, but StandardScaler was fitted with feature names\n",
            "  warnings.warn(\n"
          ]
        }
      ]
    }
  ]
}